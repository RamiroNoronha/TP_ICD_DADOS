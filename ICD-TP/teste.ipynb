{
 "cells": [
  {
   "cell_type": "code",
   "execution_count": 42,
   "metadata": {},
   "outputs": [],
   "source": [
    "import pandas as pd\n",
    "import numpy as np"
   ]
  },
  {
   "cell_type": "code",
   "execution_count": 43,
   "metadata": {},
   "outputs": [],
   "source": [
    "df = pd.read_csv('/home/artixs/Documents/Downloads/covid19br-vac-main/covid19br-vac-main/tudo.csv')"
   ]
  },
  {
   "cell_type": "code",
   "execution_count": 44,
   "metadata": {},
   "outputs": [
    {
     "data": {
      "text/html": [
       "<div>\n",
       "<style scoped>\n",
       "    .dataframe tbody tr th:only-of-type {\n",
       "        vertical-align: middle;\n",
       "    }\n",
       "\n",
       "    .dataframe tbody tr th {\n",
       "        vertical-align: top;\n",
       "    }\n",
       "\n",
       "    .dataframe thead th {\n",
       "        text-align: right;\n",
       "    }\n",
       "</style>\n",
       "<table border=\"1\" class=\"dataframe\">\n",
       "  <thead>\n",
       "    <tr style=\"text-align: right;\">\n",
       "      <th></th>\n",
       "      <th>state</th>\n",
       "      <th>city</th>\n",
       "      <th>ibgeID</th>\n",
       "      <th>dose</th>\n",
       "      <th>vaccine</th>\n",
       "      <th>sex</th>\n",
       "      <th>age</th>\n",
       "      <th>pop2021</th>\n",
       "      <th>count</th>\n",
       "    </tr>\n",
       "  </thead>\n",
       "  <tbody>\n",
       "    <tr>\n",
       "      <th>0</th>\n",
       "      <td>RS</td>\n",
       "      <td>Aceguá/RS</td>\n",
       "      <td>4300034</td>\n",
       "      <td>0</td>\n",
       "      <td>Janssen</td>\n",
       "      <td>F</td>\n",
       "      <td>15-19</td>\n",
       "      <td>4981</td>\n",
       "      <td>2</td>\n",
       "    </tr>\n",
       "    <tr>\n",
       "      <th>1</th>\n",
       "      <td>RS</td>\n",
       "      <td>Aceguá/RS</td>\n",
       "      <td>4300034</td>\n",
       "      <td>0</td>\n",
       "      <td>Janssen</td>\n",
       "      <td>F</td>\n",
       "      <td>20-24</td>\n",
       "      <td>4981</td>\n",
       "      <td>13</td>\n",
       "    </tr>\n",
       "    <tr>\n",
       "      <th>2</th>\n",
       "      <td>RS</td>\n",
       "      <td>Aceguá/RS</td>\n",
       "      <td>4300034</td>\n",
       "      <td>0</td>\n",
       "      <td>Janssen</td>\n",
       "      <td>F</td>\n",
       "      <td>25-29</td>\n",
       "      <td>4981</td>\n",
       "      <td>9</td>\n",
       "    </tr>\n",
       "    <tr>\n",
       "      <th>3</th>\n",
       "      <td>RS</td>\n",
       "      <td>Aceguá/RS</td>\n",
       "      <td>4300034</td>\n",
       "      <td>0</td>\n",
       "      <td>Janssen</td>\n",
       "      <td>F</td>\n",
       "      <td>30-34</td>\n",
       "      <td>4981</td>\n",
       "      <td>21</td>\n",
       "    </tr>\n",
       "    <tr>\n",
       "      <th>4</th>\n",
       "      <td>RS</td>\n",
       "      <td>Aceguá/RS</td>\n",
       "      <td>4300034</td>\n",
       "      <td>0</td>\n",
       "      <td>Janssen</td>\n",
       "      <td>F</td>\n",
       "      <td>35-39</td>\n",
       "      <td>4981</td>\n",
       "      <td>6</td>\n",
       "    </tr>\n",
       "  </tbody>\n",
       "</table>\n",
       "</div>"
      ],
      "text/plain": [
       "  state       city   ibgeID  dose  vaccine sex    age  pop2021  count\n",
       "0    RS  Aceguá/RS  4300034     0  Janssen   F  15-19     4981      2\n",
       "1    RS  Aceguá/RS  4300034     0  Janssen   F  20-24     4981     13\n",
       "2    RS  Aceguá/RS  4300034     0  Janssen   F  25-29     4981      9\n",
       "3    RS  Aceguá/RS  4300034     0  Janssen   F  30-34     4981     21\n",
       "4    RS  Aceguá/RS  4300034     0  Janssen   F  35-39     4981      6"
      ]
     },
     "execution_count": 44,
     "metadata": {},
     "output_type": "execute_result"
    }
   ],
   "source": [
    "df.head()"
   ]
  },
  {
   "cell_type": "code",
   "execution_count": 45,
   "metadata": {},
   "outputs": [
    {
     "data": {
      "text/plain": [
       "{0: 5320110, 1: 185946181, 2: 173081886, 3: 186296652, 4: 1537097, 5: 30925}"
      ]
     },
     "execution_count": 45,
     "metadata": {},
     "output_type": "execute_result"
    }
   ],
   "source": [
    "doses = {}\n",
    "for dose in df.dose.unique():\n",
    "    doses[dose] = df[df['dose'] == dose]['count'].sum()\n",
    "\n",
    "doses"
   ]
  },
  {
   "cell_type": "code",
   "execution_count": 46,
   "metadata": {},
   "outputs": [],
   "source": [
    "filtro = (df['vaccine'] == 'Janssen') & (df['dose'] == 1)\n",
    "\n",
    "for i,val in enumerate(filtro):\n",
    "    if val:\n",
    "        df.at[i, 'dose'] = 0\n",
    "filtro = (df['vaccine'] == 'Janssen') & (df['dose'] == 2)\n",
    "\n",
    "for i,val in enumerate(filtro):\n",
    "    if val:\n",
    "        df.at[i, 'dose'] = 3\n"
   ]
  },
  {
   "cell_type": "code",
   "execution_count": 47,
   "metadata": {},
   "outputs": [
    {
     "data": {
      "text/plain": [
       "{0: 5368331, 1: 185897960, 2: 172049743, 3: 187328795, 4: 1537097, 5: 30925}"
      ]
     },
     "execution_count": 47,
     "metadata": {},
     "output_type": "execute_result"
    }
   ],
   "source": [
    "doses = {}\n",
    "for dose in df.dose.unique():\n",
    "    doses[dose] = df[df['dose'] == dose]['count'].sum()\n",
    "\n",
    "doses"
   ]
  }
 ],
 "metadata": {
  "kernelspec": {
   "display_name": "Python 3.11.5 64-bit",
   "language": "python",
   "name": "python3"
  },
  "language_info": {
   "codemirror_mode": {
    "name": "ipython",
    "version": 3
   },
   "file_extension": ".py",
   "mimetype": "text/x-python",
   "name": "python",
   "nbconvert_exporter": "python",
   "pygments_lexer": "ipython3",
   "version": "3.11.5"
  },
  "orig_nbformat": 4,
  "vscode": {
   "interpreter": {
    "hash": "e7370f93d1d0cde622a1f8e1c04877d8463912d04d973331ad4851f04de6915a"
   }
  }
 },
 "nbformat": 4,
 "nbformat_minor": 2
}
